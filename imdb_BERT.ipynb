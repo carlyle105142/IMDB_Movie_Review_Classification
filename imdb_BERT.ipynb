{
 "cells": [
  {
   "cell_type": "code",
   "execution_count": 32,
   "id": "534303bc",
   "metadata": {
    "pycharm": {
     "is_executing": true
    }
   },
   "outputs": [],
   "source": [
    "# set-up ipython kernel\n",
    "# python -m ipykernel install --name tfenv\n",
    "\n",
    "\n",
    "import tensorflow as tf\n",
    "import tensorflow_hub as hub\n",
    "import tensorflow_text as text\n",
    "from official.nlp import optimization\n",
    "import pandas as pd\n",
    "import math\n",
    "import matplotlib.pyplot as plt\n",
    "from sklearn.metrics import classification_report"
   ]
  },
  {
   "cell_type": "code",
   "execution_count": 2,
   "id": "02c8fb6b",
   "metadata": {
    "pycharm": {
     "is_executing": true
    }
   },
   "outputs": [
    {
     "name": "stdout",
     "output_type": "stream",
     "text": [
      "Num GPUs Available:  1\n"
     ]
    }
   ],
   "source": [
    "print(\"Num GPUs Available: \", len(tf.config.list_physical_devices('GPU')))"
   ]
  },
  {
   "cell_type": "code",
   "execution_count": 3,
   "id": "50d3f706",
   "metadata": {},
   "outputs": [
    {
     "name": "stdout",
     "output_type": "stream",
     "text": [
      "[PhysicalDevice(name='/physical_device:GPU:0', device_type='GPU')]\n"
     ]
    }
   ],
   "source": [
    "physical_devices = tf.config.experimental.list_physical_devices('GPU')\n",
    "print(physical_devices)"
   ]
  },
  {
   "cell_type": "code",
   "execution_count": 4,
   "id": "fa6119c5",
   "metadata": {},
   "outputs": [
    {
     "name": "stdout",
     "output_type": "stream",
     "text": [
      "Python 3.9.13\n"
     ]
    }
   ],
   "source": [
    "!python --version"
   ]
  },
  {
   "cell_type": "code",
   "execution_count": 5,
   "id": "c4fe53c6",
   "metadata": {},
   "outputs": [
    {
     "data": {
      "text/plain": [
       "'2.10.1'"
      ]
     },
     "execution_count": 5,
     "metadata": {},
     "output_type": "execute_result"
    }
   ],
   "source": [
    "tf.__version__"
   ]
  },
  {
   "cell_type": "markdown",
   "id": "d67d36d1",
   "metadata": {},
   "source": [
    "### *Import Data*"
   ]
  },
  {
   "cell_type": "code",
   "execution_count": 6,
   "id": "46c577e6",
   "metadata": {},
   "outputs": [],
   "source": [
    "train_df = pd.read_csv('data/Train.csv')\n",
    "\n",
    "test_df = pd.read_csv('data/Test.csv')\n",
    "\n",
    "valid_df = pd.read_csv('data/Valid.csv')"
   ]
  },
  {
   "cell_type": "code",
   "execution_count": 7,
   "id": "9c29ef67",
   "metadata": {},
   "outputs": [
    {
     "data": {
      "text/plain": [
       "(40000, 2)"
      ]
     },
     "execution_count": 7,
     "metadata": {},
     "output_type": "execute_result"
    }
   ],
   "source": [
    "train_df.shape"
   ]
  },
  {
   "cell_type": "code",
   "execution_count": 8,
   "id": "9ddabf3e",
   "metadata": {},
   "outputs": [
    {
     "data": {
      "text/plain": [
       "(5000, 2)"
      ]
     },
     "execution_count": 8,
     "metadata": {},
     "output_type": "execute_result"
    }
   ],
   "source": [
    "test_df.shape"
   ]
  },
  {
   "cell_type": "code",
   "execution_count": 9,
   "id": "dd4ea8e6",
   "metadata": {},
   "outputs": [
    {
     "data": {
      "text/plain": [
       "(5000, 2)"
      ]
     },
     "execution_count": 9,
     "metadata": {},
     "output_type": "execute_result"
    }
   ],
   "source": [
    "valid_df.shape"
   ]
  },
  {
   "cell_type": "code",
   "execution_count": 10,
   "id": "9e2982ed",
   "metadata": {},
   "outputs": [
    {
     "data": {
      "text/html": [
       "<div>\n",
       "<style scoped>\n",
       "    .dataframe tbody tr th:only-of-type {\n",
       "        vertical-align: middle;\n",
       "    }\n",
       "\n",
       "    .dataframe tbody tr th {\n",
       "        vertical-align: top;\n",
       "    }\n",
       "\n",
       "    .dataframe thead th {\n",
       "        text-align: right;\n",
       "    }\n",
       "</style>\n",
       "<table border=\"1\" class=\"dataframe\">\n",
       "  <thead>\n",
       "    <tr style=\"text-align: right;\">\n",
       "      <th></th>\n",
       "      <th>text</th>\n",
       "      <th>label</th>\n",
       "    </tr>\n",
       "  </thead>\n",
       "  <tbody>\n",
       "    <tr>\n",
       "      <th>0</th>\n",
       "      <td>I grew up (b. 1965) watching and loving the Th...</td>\n",
       "      <td>0</td>\n",
       "    </tr>\n",
       "    <tr>\n",
       "      <th>1</th>\n",
       "      <td>When I put this movie in my DVD player, and sa...</td>\n",
       "      <td>0</td>\n",
       "    </tr>\n",
       "    <tr>\n",
       "      <th>2</th>\n",
       "      <td>Why do people who do not know what a particula...</td>\n",
       "      <td>0</td>\n",
       "    </tr>\n",
       "  </tbody>\n",
       "</table>\n",
       "</div>"
      ],
      "text/plain": [
       "                                                text  label\n",
       "0  I grew up (b. 1965) watching and loving the Th...      0\n",
       "1  When I put this movie in my DVD player, and sa...      0\n",
       "2  Why do people who do not know what a particula...      0"
      ]
     },
     "execution_count": 10,
     "metadata": {},
     "output_type": "execute_result"
    }
   ],
   "source": [
    "train_df.head(3)"
   ]
  },
  {
   "cell_type": "markdown",
   "id": "7d154710",
   "metadata": {},
   "source": [
    "## Download pre-trained BERT preprocessor and BERT Model (encoder)\n",
    "\n",
    "Before training a model using BERT, the text data needs to be first converted into machine-readable tokens in the form of tensors. To achieve this, a preprocessing model specifically created for BERT is used to translate English words into numerical values, which will give N tensors (N being the training sample size), each with a fixed length of 128 (this is by default, we may change the input sequence length to up to 512 tokens at maximum). A pre-trained BERT model is then used to generate outputs based on those preprocessed input (tensors). In our case, 'cased' BERT model is used, because it can recognize upper-cased letters in the context, which may be related to excitement or intentional emphasis on a specific word."
   ]
  },
  {
   "cell_type": "code",
   "execution_count": 11,
   "id": "858f10db",
   "metadata": {},
   "outputs": [
    {
     "name": "stdout",
     "output_type": "stream",
     "text": [
      "WARNING:tensorflow:Please fix your imports. Module tensorflow.python.training.tracking.data_structures has been moved to tensorflow.python.trackable.data_structures. The old module will be deleted in version 2.11.\n"
     ]
    }
   ],
   "source": [
    "bert_encoder = hub.KerasLayer(\"https://tfhub.dev/tensorflow/small_bert/bert_en_uncased_L-4_H-512_A-8/2\", trainable=True, name=\"BERT_encoder\")\n",
    "bert_preprocess_model = hub.KerasLayer(\"https://tfhub.dev/tensorflow/bert_en_uncased_preprocess/3\", name='Pre-Processing')\n"
   ]
  },
  {
   "cell_type": "markdown",
   "id": "55afab33",
   "metadata": {},
   "source": [
    "*Test the preprocessor*\n",
    "\n",
    "+ We can test how the preprocessor essentially works using simple input texts.\n",
    "+ There are 3 outputs, namely the word id, input mask indicator and type id.\n",
    "+ The word id vector simply gives the corresponding id for each word that is recognizable by BERT.\n",
    "+ The input mask tells which token is masked (0) and which is not (1). \n",
    "+ The type id has the index of the input segment that gave rise to the input token at the respective position. In this case, because we only have one input sentence, the type id is a zero vector."
   ]
  },
  {
   "cell_type": "code",
   "execution_count": 12,
   "id": "8220ae23",
   "metadata": {},
   "outputs": [
    {
     "name": "stdout",
     "output_type": "stream",
     "text": [
      "Original text: This is really a wonderful movie!\n",
      "Shape: (1, 128)\n",
      "Word Id: [ 101 2023 2003 2428 1037 6919 3185  999  102    0    0    0]\n",
      "Input Mask Indicator: [1 1 1 1 1 1 1 1 1 0 0 0]\n",
      "Type Id: [0 0 0 0 0 0 0 0 0 0 0 0]\n",
      "\n",
      "Original text: I really don't like this movie\n",
      "Shape: (1, 128)\n",
      "Word Id: [ 101 1045 2428 2123 1005 1056 2066 2023 3185  102    0    0]\n",
      "Input Mask Indicator: [1 1 1 1 1 1 1 1 1 1 0 0]\n",
      "Type Id: [0 0 0 0 0 0 0 0 0 0 0 0]\n"
     ]
    }
   ],
   "source": [
    "def test_process_model(input_text):\n",
    "  t = [input_text]\n",
    "  processed_t = bert_preprocess_model(t)\n",
    "  print(f'Original text: {input_text}')\n",
    "  print(f'Shape: {processed_t[\"input_word_ids\"].shape}')\n",
    "  print(f'Word Id: {processed_t[\"input_word_ids\"][0,:12]}')\n",
    "  print(f'Input Mask Indicator: {processed_t[\"input_mask\"][0,:12]}')\n",
    "  print(f'Type Id: {processed_t[\"input_type_ids\"][0, :12]}')\n",
    "  return\n",
    "\n",
    "test_process_model('This is really a wonderful movie!')\n",
    "print()\n",
    "test_process_model('I really don\\'t like this movie')\n"
   ]
  },
  {
   "cell_type": "code",
   "execution_count": 13,
   "id": "359ec244",
   "metadata": {},
   "outputs": [
    {
     "name": "stdout",
     "output_type": "stream",
     "text": [
      "Pooled Outputs Shape:(1, 512)\n",
      "Pooled Outputs Values:[ 0.24430047  0.99493533 -0.06289306  0.3481398   0.51652336]\n"
     ]
    }
   ],
   "source": [
    "def test_bert_model(input_text, output=False):\n",
    "  t = [input_text]\n",
    "  processed_t = bert_preprocess_model(t)\n",
    "  bert_results = bert_encoder(processed_t)\n",
    "\n",
    "  if output is False:\n",
    "      print(f'Pooled Outputs Shape:{bert_results[\"pooled_output\"].shape}')\n",
    "      print(f'Pooled Outputs Values:{bert_results[\"pooled_output\"][0, :5]}')\n",
    "  if output is True:\n",
    "      return bert_results[\"pooled_output\"]\n",
    "\n",
    "\n",
    "test_bert_model('This is really a wonderful movie!')"
   ]
  },
  {
   "cell_type": "code",
   "execution_count": 16,
   "id": "980cc1f6",
   "metadata": {},
   "outputs": [
    {
     "name": "stdout",
     "output_type": "stream",
     "text": [
      "[[0.8590814]]\n",
      "[[0.6185554]]\n"
     ]
    }
   ],
   "source": [
    "from sklearn.metrics.pairwise import cosine_similarity\n",
    "\n",
    "\n",
    "embedding_1 = test_bert_model(\"Elon Musk\", True)\n",
    "embedding_2 = test_bert_model(\"Jeff Bezos\", True)\n",
    "embedding_3 = test_bert_model(\"University of California, Davis\", True)\n",
    "\n",
    "print(cosine_similarity(embedding_1, embedding_2))\n",
    "print(cosine_similarity(embedding_2, embedding_3))\n"
   ]
  },
  {
   "cell_type": "markdown",
   "id": "943739a0",
   "metadata": {},
   "source": [
    "+ The above example illustrated how the dissimilarity of sentences (phrases, in this case) used in different context are calculated. Technically speaking, each word has, based on its context, a vector representation given by the pre-trained BERT. For two given texts, the cosine of their corresponding vector representations are calculated as a way to measure the contextual difference between the two words.\n",
    "+ For \"Elon Musk\" and \"Jeff Bezos\", their contexts can be very similar as both of them are successful entrepreneurs.\n",
    "+ \"Elon Musk\" and \"University of California, Davis\" are less similar in context, and thus have lower cosine similarity score."
   ]
  },
  {
   "cell_type": "markdown",
   "id": "1b4f9037",
   "metadata": {},
   "source": [
    "# BERT model"
   ]
  },
  {
   "cell_type": "markdown",
   "id": "067e0319",
   "metadata": {},
   "source": [
    "### *Model Construction*"
   ]
  },
  {
   "cell_type": "code",
   "execution_count": 17,
   "id": "8d1f4297",
   "metadata": {},
   "outputs": [],
   "source": [
    "def build_classifier_model():\n",
    "\n",
    "  text_input = tf.keras.layers.Input(shape=(), dtype=tf.string, name='Text')\n",
    "  # preprocessing\n",
    "  preprocessing_layer = bert_preprocess_model\n",
    "  encoder_input = preprocessing_layer(text_input)\n",
    "  # applying BERT\n",
    "  encoder = bert_encoder\n",
    "  outputs = encoder(encoder_input)\n",
    "\n",
    "  net = outputs['pooled_output']\n",
    "  # drop-out layer\n",
    "  net = tf.keras.layers.Dropout(0.4, name='Drop-Out')(net)\n",
    "  # applying sigmoid activation function\n",
    "  net = tf.keras.layers.Dense(1, activation='sigmoid', name='Classifier')(net)\n",
    "  return tf.keras.Model(text_input, net)"
   ]
  },
  {
   "cell_type": "markdown",
   "id": "55879a3b",
   "metadata": {},
   "source": [
    "### *Visualize the Structure*"
   ]
  },
  {
   "cell_type": "code",
   "execution_count": 18,
   "id": "894e4b72",
   "metadata": {},
   "outputs": [
    {
     "data": {
      "image/png": "[encoded data removed]",
      "text/plain": [
       "<IPython.core.display.Image object>"
      ]
     },
     "execution_count": 18,
     "metadata": {},
     "output_type": "execute_result"
    }
   ],
   "source": [
    "classifier_model = build_classifier_model()\n",
    "\n",
    "tf.keras.utils.plot_model(classifier_model)"
   ]
  },
  {
   "cell_type": "markdown",
   "id": "548e1638",
   "metadata": {},
   "source": [
    "### *Compile & Train*\n",
    "\n"
   ]
  },
  {
   "cell_type": "code",
   "execution_count": 19,
   "id": "296f338f",
   "metadata": {},
   "outputs": [],
   "source": [
    "# metrics\n",
    "\n",
    "metrics = [\n",
    "      tf.keras.metrics.BinaryAccuracy(name='accuracy'),\n",
    "      tf.keras.metrics.Precision(name='precision'),\n",
    "      tf.keras.metrics.Recall(name='recall')\n",
    "]\n",
    "\n",
    "# optimizer\n",
    "\n",
    "epochs = 5\n",
    "batch_size = 64\n",
    "steps_per_epoch = len(train_df)/batch_size\n",
    "num_train_steps = steps_per_epoch * epochs\n",
    "num_warmup_steps = int(0.1*num_train_steps)\n",
    "init_lr = 3e-5\n",
    "optimizer = optimization.create_optimizer(init_lr=init_lr,\n",
    "                                          num_train_steps=num_train_steps,\n",
    "                                          num_warmup_steps=num_warmup_steps,\n",
    "                                          optimizer_type='adamw')\n",
    "\n",
    "# loss\n",
    "loss = tf.keras.losses.BinaryCrossentropy()\n",
    "\n",
    "\n",
    "classifier_model.compile(optimizer=optimizer, loss=loss, metrics=metrics)"
   ]
  },
  {
   "cell_type": "code",
   "execution_count": 20,
   "id": "693c8719",
   "metadata": {},
   "outputs": [
    {
     "name": "stdout",
     "output_type": "stream",
     "text": [
      "Epoch 1/5\n",
      "625/625 [==============================] - 604s 957ms/step - loss: 0.5032 - accuracy: 0.7454 - precision: 0.7414 - recall: 0.7530 - val_loss: 0.3617 - val_accuracy: 0.8368 - val_precision: 0.8151 - val_recall: 0.8735\n",
      "Epoch 2/5\n",
      "625/625 [==============================] - 599s 958ms/step - loss: 0.3373 - accuracy: 0.8551 - precision: 0.8530 - recall: 0.8576 - val_loss: 0.3372 - val_accuracy: 0.8536 - val_precision: 0.8245 - val_recall: 0.9006\n",
      "Epoch 3/5\n",
      "625/625 [==============================] - 599s 958ms/step - loss: 0.2713 - accuracy: 0.8867 - precision: 0.8840 - recall: 0.8898 - val_loss: 0.3474 - val_accuracy: 0.8610 - val_precision: 0.8782 - val_recall: 0.8401\n",
      "Epoch 4/5\n",
      "625/625 [==============================] - 602s 964ms/step - loss: 0.2264 - accuracy: 0.9097 - precision: 0.9078 - recall: 0.9118 - val_loss: 0.3547 - val_accuracy: 0.8644 - val_precision: 0.8705 - val_recall: 0.8580\n",
      "Epoch 5/5\n",
      "625/625 [==============================] - 597s 955ms/step - loss: 0.1942 - accuracy: 0.9243 - precision: 0.9220 - recall: 0.9268 - val_loss: 0.3795 - val_accuracy: 0.8618 - val_precision: 0.8607 - val_recall: 0.8652\n"
     ]
    }
   ],
   "source": [
    "train_X = train_df['text']\n",
    "train_y = train_df['label']\n",
    "valid_X = valid_df['text']\n",
    "valid_y = valid_df['label']\n",
    "\n",
    "\n",
    "model_history = classifier_model.fit(train_X, train_y, \n",
    "                                     validation_data = (valid_X, valid_y), epochs=epochs,\n",
    "                                    batch_size=batch_size)"
   ]
  },
  {
   "cell_type": "markdown",
   "id": "e6ffac3f",
   "metadata": {},
   "source": [
    "### *Model History*"
   ]
  },
  {
   "cell_type": "code",
   "execution_count": 31,
   "id": "01a40b86",
   "metadata": {},
   "outputs": [
    {
     "name": "stdout",
     "output_type": "stream",
     "text": [
      "dict_keys(['loss', 'accuracy', 'precision', 'recall', 'val_loss', 'val_accuracy', 'val_precision', 'val_recall'])\n"
     ]
    },
    {
     "data": {
      "text/plain": [
       "<matplotlib.legend.Legend at 0x18a3684e410>"
      ]
     },
     "execution_count": 31,
     "metadata": {},
     "output_type": "execute_result"
    },
    {
     "data": {
      "image/png": "[encoded data removed]",
      "text/plain": [
       "<Figure size 1000x500 with 2 Axes>"
      ]
     },
     "metadata": {},
     "output_type": "display_data"
    }
   ],
   "source": [
    "history_dict = model_history.history\n",
    "print(history_dict.keys())\n",
    "\n",
    "acc = history_dict['accuracy']\n",
    "val_acc = history_dict['val_accuracy']\n",
    "\n",
    "prec = history_dict['precision']\n",
    "val_prec = history_dict['val_precision']\n",
    "\n",
    "recall = history_dict['recall']\n",
    "val_recall = history_dict['val_recall']\n",
    "\n",
    "loss = history_dict['loss']\n",
    "val_loss = history_dict['val_loss']\n",
    "\n",
    "epochs = range(1, len(acc) + 1)\n",
    "fig = plt.figure(figsize=(10, 5))\n",
    "fig.tight_layout()\n",
    "\n",
    "plt.subplot(1, 2, 1)\n",
    "# \"bo\" is for \"blue dot\"\n",
    "plt.plot(epochs, loss, 'r', label='Training loss')\n",
    "# b is for \"solid blue line\"\n",
    "plt.plot(epochs, val_loss, 'b', label='Validation loss')\n",
    "plt.title('Training and validation loss')\n",
    "# plt.xlabel('Epochs')\n",
    "plt.ylabel('Loss')\n",
    "plt.legend()\n",
    "\n",
    "plt.subplot(1, 2, 2)\n",
    "plt.plot(epochs, acc, 'r', label='Training acc')\n",
    "plt.plot(epochs, val_acc, 'b', label='Validation acc')\n",
    "plt.title('Training and validation accuracy')\n",
    "plt.xlabel('Epochs')\n",
    "plt.ylabel('Accuracy')\n",
    "plt.legend(loc='lower right')\n"
   ]
  },
  {
   "cell_type": "markdown",
   "id": "1cd47770",
   "metadata": {},
   "source": [
    "### *Save Model*"
   ]
  },
  {
   "cell_type": "code",
   "execution_count": 22,
   "id": "2380ffdd",
   "metadata": {},
   "outputs": [
    {
     "name": "stderr",
     "output_type": "stream",
     "text": [
      "WARNING:absl:Function `_wrapped_model` contains input name(s) Text with unsupported characters which will be renamed to text in the SavedModel.\n",
      "WARNING:absl:Found untraced functions such as restored_function_body, restored_function_body, restored_function_body, restored_function_body, restored_function_body while saving (showing 5 of 126). These functions will not be directly callable after loading.\n"
     ]
    },
    {
     "name": "stdout",
     "output_type": "stream",
     "text": [
      "INFO:tensorflow:Assets written to: ./imdb_bert_model\\assets\n"
     ]
    },
    {
     "name": "stderr",
     "output_type": "stream",
     "text": [
      "INFO:tensorflow:Assets written to: ./imdb_bert_model\\assets\n"
     ]
    }
   ],
   "source": [
    "classifier_model.save(\"./imdb_bert_model\", include_optimizer=False)"
   ]
  },
  {
   "cell_type": "markdown",
   "id": "04be2f75",
   "metadata": {},
   "source": [
    "### *Model Evaluation*"
   ]
  },
  {
   "cell_type": "code",
   "execution_count": 36,
   "id": "8a769109",
   "metadata": {},
   "outputs": [
    {
     "name": "stdout",
     "output_type": "stream",
     "text": [
      "157/157 [==============================] - 32s 202ms/step - loss: 0.3543 - accuracy: 0.8708 - precision: 0.8670 - recall: 0.8766\n"
     ]
    }
   ],
   "source": [
    "test_X = test_df['text']\n",
    "test_y = test_df['label']\n",
    "\n",
    "\n",
    "test_loss, test_acc, test_prec, test_recall = classifier_model.evaluate(test_X,test_y)\n"
   ]
  },
  {
   "cell_type": "code",
   "execution_count": 39,
   "id": "9dce5c25",
   "metadata": {},
   "outputs": [
    {
     "name": "stdout",
     "output_type": "stream",
     "text": [
      "              precision    recall  f1-score   support\n",
      "\n",
      "    negative       0.87      0.86      0.87      2495\n",
      "    positive       0.87      0.88      0.87      2505\n",
      "\n",
      "    accuracy                           0.87      5000\n",
      "   macro avg       0.87      0.87      0.87      5000\n",
      "weighted avg       0.87      0.87      0.87      5000\n",
      "\n"
     ]
    }
   ],
   "source": [
    "def make_prediction(text):\n",
    "    prob = classifier_model(tf.constant([text]))[0][0]\n",
    "    if prob >= 0.5:\n",
    "        return 1\n",
    "    elif prob < 0.5:\n",
    "        return 0\n",
    "\n",
    "pred_y = test_X.apply(lambda x: make_prediction(x))\n",
    "\n",
    "print(classification_report(y_true = test_y, y_pred = pred_y , target_names=['negative','positive']))"
   ]
  },
  {
   "cell_type": "markdown",
   "id": "a454c01c",
   "metadata": {},
   "source": [
    "### *Experiment with Custom Text*"
   ]
  },
  {
   "cell_type": "code",
   "execution_count": 25,
   "id": "d8e76d49",
   "metadata": {},
   "outputs": [],
   "source": [
    "def get_score(text, model=classifier_model):\n",
    "    score = model(tf.constant([text]))[0][0]\n",
    "    print(\"Input text: {}\".format(text))\n",
    "    print()\n",
    "    print(\"Score: {}\".format(score))"
   ]
  },
  {
   "cell_type": "markdown",
   "id": "1e6c8910",
   "metadata": {},
   "source": [
    "#### Custom Positive Feedback"
   ]
  },
  {
   "cell_type": "code",
   "execution_count": 26,
   "id": "d269f56e",
   "metadata": {},
   "outputs": [
    {
     "name": "stdout",
     "output_type": "stream",
     "text": [
      "Input text: The movie was really great!\n",
      "\n",
      "Score: 0.9952241778373718\n"
     ]
    }
   ],
   "source": [
    "get_score(\"The movie was really great!\")"
   ]
  },
  {
   "cell_type": "code",
   "execution_count": 27,
   "id": "12ac4054",
   "metadata": {},
   "outputs": [
    {
     "name": "stdout",
     "output_type": "stream",
     "text": [
      "Input text: This film was a piece of art!\n",
      "\n",
      "Score: 0.9949047565460205\n"
     ]
    }
   ],
   "source": [
    "get_score(\"This film was a piece of art!\")"
   ]
  },
  {
   "cell_type": "markdown",
   "id": "473527e8",
   "metadata": {},
   "source": [
    "#### Positive Real Review on Avatar 2"
   ]
  },
  {
   "cell_type": "code",
   "execution_count": 40,
   "id": "8e4873db",
   "metadata": {},
   "outputs": [
    {
     "name": "stdout",
     "output_type": "stream",
     "text": [
      "Input text: If you loved the first movie, you are likely to love this too.           This movie too has a thin story, very basic dialogue, and has a very simplistic outlook on life and story.           And yet, again as the first one, this movie is beautiful, the story is about family and love,           and Cameron just know how to pull those strings. This is what Hollywood used to be so great at           and clearly Cameron is one of the last true directors of tinseltown.\n",
      "\n",
      "Score: 0.9201925992965698\n"
     ]
    }
   ],
   "source": [
    "get_score(\"If you loved the first movie, you are likely to love this too. \\\n",
    "          This movie too has a thin story, very basic dialogue, and has a very simplistic outlook on life and story. \\\n",
    "          And yet, again as the first one, this movie is beautiful, the story is about family and love, \\\n",
    "          and Cameron just know how to pull those strings. This is what Hollywood used to be so great at \\\n",
    "          and clearly Cameron is one of the last true directors of tinseltown.\")"
   ]
  },
  {
   "cell_type": "markdown",
   "id": "90a36f19",
   "metadata": {},
   "source": [
    "#### Custom Negative Feedback"
   ]
  },
  {
   "cell_type": "code",
   "execution_count": 28,
   "id": "fb22104b",
   "metadata": {},
   "outputs": [
    {
     "name": "stdout",
     "output_type": "stream",
     "text": [
      "Input text: I kinda hate the main character...\n",
      "\n",
      "Score: 0.010522437281906605\n"
     ]
    }
   ],
   "source": [
    "get_score(\"I kinda hate the main character...\")"
   ]
  },
  {
   "cell_type": "code",
   "execution_count": 29,
   "id": "eca4d929",
   "metadata": {},
   "outputs": [
    {
     "name": "stdout",
     "output_type": "stream",
     "text": [
      "Input text: The movie was terrible...\n",
      "\n",
      "Score: 0.0009527538786642253\n"
     ]
    }
   ],
   "source": [
    "get_score(\"The movie was terrible...\")"
   ]
  },
  {
   "cell_type": "markdown",
   "id": "d4c690c9",
   "metadata": {},
   "source": [
    "#### Negative Real Review on Avatar 2"
   ]
  },
  {
   "cell_type": "code",
   "execution_count": 43,
   "id": "f7896759",
   "metadata": {},
   "outputs": [
    {
     "name": "stdout",
     "output_type": "stream",
     "text": [
      "Input text: Story was a let down. Old wine in new bottle. Felt like they were reusing the first story at many places.They had like 13 years and still couldn't develop the story properly. Found some plot holes which contradicts the first movie.There were also many cliché scenes. And felt like the \"humours\" guys in the boat were bad actors. Took me out of the movie.Runtime was too much coz I felt bored. Overall it's an average movie. Still one time watchable. First movie is better in termsof story n visuals. This movie didn't have that balance.\n",
      "\n",
      "Score: 0.0022504045628011227\n"
     ]
    }
   ],
   "source": [
    "get_score(\"Story was a let down. Old wine in new bottle. Felt like they were reusing the first story at many places.\\\n",
    "They had like 13 years and still couldn't develop the story properly. Found some plot holes which contradicts the first movie.\\\n",
    "There were also many cliché scenes. And felt like the \\\"humours\\\" guys in the boat were bad actors. Took me out of the movie.\\\n",
    "Runtime was too much coz I felt bored. Overall it's an average movie. Still one time watchable. First movie is better in terms\\\n",
    "of story n visuals. This movie didn't have that balance.\")"
   ]
  },
  {
   "cell_type": "code",
   "execution_count": null,
   "id": "2bd7dd06",
   "metadata": {},
   "outputs": [],
   "source": []
  }
 ],
 "metadata": {
  "kernelspec": {
   "display_name": "tfenv",
   "language": "python",
   "name": "tfenv"
  },
  "language_info": {
   "codemirror_mode": {
    "name": "ipython",
    "version": 3
   },
   "file_extension": ".py",
   "mimetype": "text/x-python",
   "name": "python",
   "nbconvert_exporter": "python",
   "pygments_lexer": "ipython3",
   "version": "3.10.8"
  }
 },
 "nbformat": 4,
 "nbformat_minor": 5
}
