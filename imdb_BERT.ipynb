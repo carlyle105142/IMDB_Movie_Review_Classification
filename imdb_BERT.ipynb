{
 "cells": [
  {
   "cell_type": "code",
   "execution_count": 51,
   "id": "534303bc",
   "metadata": {
    "pycharm": {
     "is_executing": true
    }
   },
   "outputs": [],
   "source": [
    "# set-up ipython kernel\n",
    "# python -m ipykernel install --name tfenv\n",
    "\n",
    "\n",
    "import tensorflow as tf\n",
    "import tensorflow_hub as hub\n",
    "import tensorflow_text as text\n",
    "from official.nlp import optimization\n",
    "import pandas as pd\n",
    "import math\n",
    "import matplotlib.pyplot as plt"
   ]
  },
  {
   "cell_type": "code",
   "execution_count": 3,
   "id": "02c8fb6b",
   "metadata": {
    "pycharm": {
     "is_executing": true
    }
   },
   "outputs": [
    {
     "name": "stdout",
     "output_type": "stream",
     "text": [
      "Num GPUs Available:  1\n"
     ]
    }
   ],
   "source": [
    "print(\"Num GPUs Available: \", len(tf.config.list_physical_devices('GPU')))"
   ]
  },
  {
   "cell_type": "code",
   "execution_count": 4,
   "id": "50d3f706",
   "metadata": {},
   "outputs": [
    {
     "name": "stdout",
     "output_type": "stream",
     "text": [
      "[PhysicalDevice(name='/physical_device:GPU:0', device_type='GPU')]\n"
     ]
    }
   ],
   "source": [
    "physical_devices = tf.config.experimental.list_physical_devices('GPU')\n",
    "print(physical_devices)"
   ]
  },
  {
   "cell_type": "code",
   "execution_count": 5,
   "id": "fa6119c5",
   "metadata": {},
   "outputs": [
    {
     "name": "stdout",
     "output_type": "stream",
     "text": [
      "Python 3.9.13\n"
     ]
    }
   ],
   "source": [
    "!python --version"
   ]
  },
  {
   "cell_type": "code",
   "execution_count": 6,
   "id": "c4fe53c6",
   "metadata": {},
   "outputs": [
    {
     "data": {
      "text/plain": [
       "'2.10.1'"
      ]
     },
     "execution_count": 6,
     "metadata": {},
     "output_type": "execute_result"
    }
   ],
   "source": [
    "tf.__version__"
   ]
  },
  {
   "cell_type": "markdown",
   "id": "d67d36d1",
   "metadata": {},
   "source": [
    "### *Import Data*"
   ]
  },
  {
   "cell_type": "code",
   "execution_count": 7,
   "id": "46c577e6",
   "metadata": {},
   "outputs": [],
   "source": [
    "train_df = pd.read_csv('Train.csv')\n",
    "\n",
    "test_df = pd.read_csv('Test.csv')\n",
    "\n",
    "valid_df = pd.read_csv('Valid.csv')"
   ]
  },
  {
   "cell_type": "code",
   "execution_count": null,
   "id": "089e7b2d",
   "metadata": {},
   "outputs": [],
   "source": []
  },
  {
   "cell_type": "code",
   "execution_count": 8,
   "id": "9c29ef67",
   "metadata": {},
   "outputs": [
    {
     "data": {
      "text/plain": [
       "(40000, 2)"
      ]
     },
     "execution_count": 8,
     "metadata": {},
     "output_type": "execute_result"
    }
   ],
   "source": [
    "train_df.shape"
   ]
  },
  {
   "cell_type": "code",
   "execution_count": 9,
   "id": "9ddabf3e",
   "metadata": {},
   "outputs": [
    {
     "data": {
      "text/plain": [
       "(5000, 2)"
      ]
     },
     "execution_count": 9,
     "metadata": {},
     "output_type": "execute_result"
    }
   ],
   "source": [
    "test_df.shape"
   ]
  },
  {
   "cell_type": "code",
   "execution_count": 10,
   "id": "dd4ea8e6",
   "metadata": {},
   "outputs": [
    {
     "data": {
      "text/plain": [
       "(5000, 2)"
      ]
     },
     "execution_count": 10,
     "metadata": {},
     "output_type": "execute_result"
    }
   ],
   "source": [
    "valid_df.shape"
   ]
  },
  {
   "cell_type": "code",
   "execution_count": 11,
   "id": "9e2982ed",
   "metadata": {},
   "outputs": [
    {
     "data": {
      "text/html": [
       "<div>\n",
       "<style scoped>\n",
       "    .dataframe tbody tr th:only-of-type {\n",
       "        vertical-align: middle;\n",
       "    }\n",
       "\n",
       "    .dataframe tbody tr th {\n",
       "        vertical-align: top;\n",
       "    }\n",
       "\n",
       "    .dataframe thead th {\n",
       "        text-align: right;\n",
       "    }\n",
       "</style>\n",
       "<table border=\"1\" class=\"dataframe\">\n",
       "  <thead>\n",
       "    <tr style=\"text-align: right;\">\n",
       "      <th></th>\n",
       "      <th>text</th>\n",
       "      <th>label</th>\n",
       "    </tr>\n",
       "  </thead>\n",
       "  <tbody>\n",
       "    <tr>\n",
       "      <th>0</th>\n",
       "      <td>I grew up (b. 1965) watching and loving the Th...</td>\n",
       "      <td>0</td>\n",
       "    </tr>\n",
       "    <tr>\n",
       "      <th>1</th>\n",
       "      <td>When I put this movie in my DVD player, and sa...</td>\n",
       "      <td>0</td>\n",
       "    </tr>\n",
       "    <tr>\n",
       "      <th>2</th>\n",
       "      <td>Why do people who do not know what a particula...</td>\n",
       "      <td>0</td>\n",
       "    </tr>\n",
       "  </tbody>\n",
       "</table>\n",
       "</div>"
      ],
      "text/plain": [
       "                                                text  label\n",
       "0  I grew up (b. 1965) watching and loving the Th...      0\n",
       "1  When I put this movie in my DVD player, and sa...      0\n",
       "2  Why do people who do not know what a particula...      0"
      ]
     },
     "execution_count": 11,
     "metadata": {},
     "output_type": "execute_result"
    }
   ],
   "source": [
    "train_df.head(3)"
   ]
  },
  {
   "cell_type": "markdown",
   "id": "7d154710",
   "metadata": {},
   "source": [
    "## Download pre-trained BERT preprocessor and BERT Model (encoder)\n",
    "\n",
    "Before training a model using BERT, the text data needs to be first converted into machine-readable tokens in the form of tensors. To achieve this, a preprocessing model specifically created for BERT is used to translate English words into numerical values, which will give N tensors (N being the training sample size), each with a fixed length of 128 (this is by default, we may change the input sequence length to up to 512 tokens at maximum). A pre-trained BERT model is then used to generate outputs based on those preprocessed input (tensors). In our case, 'cased' BERT model is used, because it can recognize upper-cased letters in the context, which may be related to excitement or intentional emphasis on a specific word."
   ]
  },
  {
   "cell_type": "code",
   "execution_count": 40,
   "id": "858f10db",
   "metadata": {},
   "outputs": [],
   "source": [
    "bert_encoder = hub.KerasLayer(\"https://tfhub.dev/tensorflow/small_bert/bert_en_uncased_L-4_H-512_A-8/2\", trainable=True, name=\"BERT_encoder\")\n",
    "bert_preprocess_model = hub.KerasLayer(\"https://tfhub.dev/tensorflow/bert_en_uncased_preprocess/3\", name='Pre-Processing')\n"
   ]
  },
  {
   "cell_type": "markdown",
   "id": "55afab33",
   "metadata": {},
   "source": [
    "*Test the preprocessor*\n",
    "\n",
    "+ We can test how the preprocessor essentially works using simple input texts.\n",
    "+ There are 3 outputs, namely the word id, input mask indicator and type id.\n",
    "+ The word id vector simply gives the corresponding id for each word that is recognizable by BERT.\n",
    "+ The input mask tells which token is masked (0) and which is not (1). \n",
    "+ The type id has the index of the input segment that gave rise to the input token at the respective position. In this case, because we only have one input sentence, the type id is a zero vector."
   ]
  },
  {
   "cell_type": "code",
   "execution_count": 41,
   "id": "8220ae23",
   "metadata": {},
   "outputs": [
    {
     "name": "stdout",
     "output_type": "stream",
     "text": [
      "Original text: This is really a wonderful movie!\n",
      "Shape: (1, 128)\n",
      "Word Id: [ 101 2023 2003 2428 1037 6919 3185  999  102    0    0    0]\n",
      "Input Mask Indicator: [1 1 1 1 1 1 1 1 1 0 0 0]\n",
      "Type Id: [0 0 0 0 0 0 0 0 0 0 0 0]\n",
      "\n",
      "Original text: I really don't like this movie\n",
      "Shape: (1, 128)\n",
      "Word Id: [ 101 1045 2428 2123 1005 1056 2066 2023 3185  102    0    0]\n",
      "Input Mask Indicator: [1 1 1 1 1 1 1 1 1 1 0 0]\n",
      "Type Id: [0 0 0 0 0 0 0 0 0 0 0 0]\n"
     ]
    }
   ],
   "source": [
    "def test_process_model(input_text):\n",
    "  t = [input_text]\n",
    "  processed_t = bert_preprocess_model(t)\n",
    "  print(f'Original text: {input_text}')\n",
    "  print(f'Shape: {processed_t[\"input_word_ids\"].shape}')\n",
    "  print(f'Word Id: {processed_t[\"input_word_ids\"][0,:12]}')\n",
    "  print(f'Input Mask Indicator: {processed_t[\"input_mask\"][0,:12]}')\n",
    "  print(f'Type Id: {processed_t[\"input_type_ids\"][0, :12]}')\n",
    "  return\n",
    "\n",
    "test_process_model('This is really a wonderful movie!')\n",
    "print()\n",
    "test_process_model('I really don\\'t like this movie')\n"
   ]
  },
  {
   "cell_type": "code",
   "execution_count": 42,
   "id": "359ec244",
   "metadata": {},
   "outputs": [
    {
     "name": "stdout",
     "output_type": "stream",
     "text": [
      "Pooled Outputs Shape:(1, 512)\n",
      "Pooled Outputs Values:[ 0.24430047  0.99493533 -0.06289306  0.3481398   0.51652336]\n"
     ]
    }
   ],
   "source": [
    "def test_bert_model(input_text, output=False):\n",
    "  t = [input_text]\n",
    "  processed_t = bert_preprocess_model(t)\n",
    "  bert_results = bert_encoder(processed_t)\n",
    "\n",
    "  if output is False:\n",
    "      print(f'Pooled Outputs Shape:{bert_results[\"pooled_output\"].shape}')\n",
    "      print(f'Pooled Outputs Values:{bert_results[\"pooled_output\"][0, :5]}')\n",
    "  if output is True:\n",
    "      return bert_results[\"pooled_output\"]\n",
    "\n",
    "\n",
    "test_bert_model('This is really a wonderful movie!')"
   ]
  },
  {
   "cell_type": "code",
   "execution_count": 43,
   "id": "980cc1f6",
   "metadata": {},
   "outputs": [
    {
     "name": "stdout",
     "output_type": "stream",
     "text": [
      "[[0.8590814]]\n",
      "[[0.6185554]]\n"
     ]
    }
   ],
   "source": [
    "from sklearn.metrics.pairwise import cosine_similarity\n",
    "\n",
    "\n",
    "embedding_1 = test_bert_model(\"Elon Musk\", True)\n",
    "embedding_2 = test_bert_model(\"Jeff Bezos\", True)\n",
    "embedding_3 = test_bert_model(\"University of California, Davis\", True)\n",
    "\n",
    "print(cosine_similarity(embedding_1, embedding_2))\n",
    "print(cosine_similarity(embedding_2, embedding_3))\n"
   ]
  },
  {
   "cell_type": "markdown",
   "id": "1b4f9037",
   "metadata": {},
   "source": [
    "# BERT model"
   ]
  },
  {
   "cell_type": "markdown",
   "id": "067e0319",
   "metadata": {},
   "source": [
    "### *Model Construction*"
   ]
  },
  {
   "cell_type": "code",
   "execution_count": 44,
   "id": "8d1f4297",
   "metadata": {},
   "outputs": [],
   "source": [
    "def build_classifier_model():\n",
    "\n",
    "  text_input = tf.keras.layers.Input(shape=(), dtype=tf.string, name='Text')\n",
    "  # preprocessing\n",
    "  preprocessing_layer = bert_preprocess_model\n",
    "  encoder_input = preprocessing_layer(text_input)\n",
    "  # applying BERT\n",
    "  encoder = bert_encoder\n",
    "  outputs = encoder(encoder_input)\n",
    "\n",
    "  net = outputs['pooled_output']\n",
    "  # drop-out layer\n",
    "  net = tf.keras.layers.Dropout(0.4, name='Drop-Out')(net)\n",
    "  # applying sigmoid activation function\n",
    "  net = tf.keras.layers.Dense(1, activation='sigmoid', name='Classifier')(net)\n",
    "  return tf.keras.Model(text_input, net)"
   ]
  },
  {
   "cell_type": "markdown",
   "id": "55879a3b",
   "metadata": {},
   "source": [
    "### *Structure*"
   ]
  },
  {
   "cell_type": "code",
   "execution_count": 45,
   "id": "894e4b72",
   "metadata": {},
   "outputs": [
    {
     "data": {
      "image/png": "[encoded data removed]",
      "text/plain": [
       "<IPython.core.display.Image object>"
      ]
     },
     "execution_count": 45,
     "metadata": {},
     "output_type": "execute_result"
    }
   ],
   "source": [
    "classifier_model = build_classifier_model()\n",
    "\n",
    "tf.keras.utils.plot_model(classifier_model)"
   ]
  },
  {
   "cell_type": "markdown",
   "id": "548e1638",
   "metadata": {},
   "source": [
    "### *Compile & Train*\n",
    "\n"
   ]
  },
  {
   "cell_type": "code",
   "execution_count": 46,
   "id": "296f338f",
   "metadata": {},
   "outputs": [],
   "source": [
    "# metrics\n",
    "\n",
    "metrics = [\n",
    "      tf.keras.metrics.BinaryAccuracy(name='accuracy'),\n",
    "      tf.keras.metrics.Precision(name='precision'),\n",
    "      tf.keras.metrics.Recall(name='recall')\n",
    "]\n",
    "\n",
    "# optimizer\n",
    "\n",
    "epochs = 5\n",
    "batch_size = 64\n",
    "steps_per_epoch = len(train_df)/batch_size\n",
    "num_train_steps = steps_per_epoch * epochs\n",
    "num_warmup_steps = int(0.1*num_train_steps)\n",
    "init_lr = 3e-5\n",
    "optimizer = optimization.create_optimizer(init_lr=init_lr,\n",
    "                                          num_train_steps=num_train_steps,\n",
    "                                          num_warmup_steps=num_warmup_steps,\n",
    "                                          optimizer_type='adamw')\n",
    "\n",
    "# loss\n",
    "loss = tf.keras.losses.BinaryCrossentropy()\n",
    "\n",
    "\n",
    "classifier_model.compile(optimizer=optimizer, loss=loss, metrics=metrics)"
   ]
  },
  {
   "cell_type": "code",
   "execution_count": 47,
   "id": "693c8719",
   "metadata": {},
   "outputs": [
    {
     "name": "stdout",
     "output_type": "stream",
     "text": [
      "Epoch 1/5\n",
      "625/625 [==============================] - 592s 939ms/step - loss: 0.5085 - accuracy: 0.7445 - precision: 0.7540 - recall: 0.7249 - val_loss: 0.3585 - val_accuracy: 0.8448 - val_precision: 0.8533 - val_recall: 0.8349\n",
      "Epoch 2/5\n",
      "625/625 [==============================] - 588s 940ms/step - loss: 0.3311 - accuracy: 0.8571 - precision: 0.8568 - recall: 0.8571 - val_loss: 0.3414 - val_accuracy: 0.8508 - val_precision: 0.8194 - val_recall: 0.9021\n",
      "Epoch 3/5\n",
      "625/625 [==============================] - 588s 942ms/step - loss: 0.2677 - accuracy: 0.8880 - precision: 0.8866 - recall: 0.8895 - val_loss: 0.3406 - val_accuracy: 0.8612 - val_precision: 0.8708 - val_recall: 0.8500\n",
      "Epoch 4/5\n",
      "625/625 [==============================] - 593s 948ms/step - loss: 0.2225 - accuracy: 0.9100 - precision: 0.9082 - recall: 0.9121 - val_loss: 0.3705 - val_accuracy: 0.8608 - val_precision: 0.8728 - val_recall: 0.8465\n",
      "Epoch 5/5\n",
      "625/625 [==============================] - 588s 941ms/step - loss: 0.1896 - accuracy: 0.9271 - precision: 0.9252 - recall: 0.9292 - val_loss: 0.3825 - val_accuracy: 0.8626 - val_precision: 0.8595 - val_recall: 0.8687\n"
     ]
    }
   ],
   "source": [
    "train_X = train_df['text']\n",
    "train_y = train_df['label']\n",
    "valid_X = valid_df['text']\n",
    "valid_y = valid_df['label']\n",
    "\n",
    "\n",
    "model_history = classifier_model.fit(train_X, train_y, \n",
    "                                     validation_data = (valid_X, valid_y), epochs=epochs,\n",
    "                                    batch_size=batch_size)"
   ]
  },
  {
   "cell_type": "markdown",
   "id": "e6ffac3f",
   "metadata": {},
   "source": [
    "### *Model History*"
   ]
  },
  {
   "cell_type": "code",
   "execution_count": 53,
   "id": "01a40b86",
   "metadata": {},
   "outputs": [
    {
     "name": "stdout",
     "output_type": "stream",
     "text": [
      "dict_keys(['loss', 'accuracy', 'precision', 'recall', 'val_loss', 'val_accuracy', 'val_precision', 'val_recall'])\n"
     ]
    },
    {
     "data": {
      "text/plain": [
       "<matplotlib.legend.Legend at 0x2d2735b3400>"
      ]
     },
     "execution_count": 53,
     "metadata": {},
     "output_type": "execute_result"
    },
    {
     "data": {
      "image/png": "[encoded data removed]",
      "text/plain": [
       "<Figure size 1000x1000 with 4 Axes>"
      ]
     },
     "metadata": {},
     "output_type": "display_data"
    }
   ],
   "source": [
    "history_dict = model_history.history\n",
    "print(history_dict.keys())\n",
    "\n",
    "acc = history_dict['accuracy']\n",
    "val_acc = history_dict['val_accuracy']\n",
    "\n",
    "prec = history_dict['precision']\n",
    "val_prec = history_dict['val_precision']\n",
    "\n",
    "recall = history_dict['recall']\n",
    "val_recall = history_dict['val_recall']\n",
    "\n",
    "loss = history_dict['loss']\n",
    "val_loss = history_dict['val_loss']\n",
    "\n",
    "epochs = range(1, len(acc) + 1)\n",
    "fig = plt.figure(figsize=(10, 10))\n",
    "fig.tight_layout()\n",
    "\n",
    "plt.subplot(2, 2, 1)\n",
    "# \"bo\" is for \"blue dot\"\n",
    "plt.plot(epochs, loss, 'r', label='Training loss')\n",
    "# b is for \"solid blue line\"\n",
    "plt.plot(epochs, val_loss, 'b', label='Validation loss')\n",
    "plt.title('Training and validation loss')\n",
    "# plt.xlabel('Epochs')\n",
    "plt.ylabel('Loss')\n",
    "plt.legend()\n",
    "\n",
    "plt.subplot(2, 2, 2)\n",
    "plt.plot(epochs, acc, 'r', label='Training acc')\n",
    "plt.plot(epochs, val_acc, 'b', label='Validation acc')\n",
    "plt.title('Training and validation accuracy')\n",
    "plt.xlabel('Epochs')\n",
    "plt.ylabel('Accuracy')\n",
    "plt.legend(loc='lower right')\n",
    "\n",
    "plt.subplot(2, 2, 3)\n",
    "plt.plot(epochs, prec, 'r', label='Training Precision')\n",
    "plt.plot(epochs, val_prec, 'b', label='Validation Precision')\n",
    "plt.title('Training and validation precision')\n",
    "plt.xlabel('Epochs')\n",
    "plt.ylabel('Precision')\n",
    "plt.legend(loc='lower right')\n",
    "\n",
    "plt.subplot(2, 2, 4)\n",
    "plt.plot(epochs, recall, 'r', label='Training Recall')\n",
    "plt.plot(epochs, val_recall, 'b', label='Validation Recall')\n",
    "plt.title('Training and validation recall')\n",
    "plt.xlabel('Epochs')\n",
    "plt.ylabel('Recall')\n",
    "plt.legend(loc='lower right')"
   ]
  },
  {
   "cell_type": "markdown",
   "id": "1cd47770",
   "metadata": {},
   "source": [
    "### *Save Model*"
   ]
  },
  {
   "cell_type": "code",
   "execution_count": 55,
   "id": "2380ffdd",
   "metadata": {},
   "outputs": [
    {
     "name": "stderr",
     "output_type": "stream",
     "text": [
      "WARNING:absl:Function `_wrapped_model` contains input name(s) Text with unsupported characters which will be renamed to text in the SavedModel.\n",
      "WARNING:absl:Found untraced functions such as restored_function_body, restored_function_body, restored_function_body, restored_function_body, restored_function_body while saving (showing 5 of 126). These functions will not be directly callable after loading.\n"
     ]
    },
    {
     "name": "stdout",
     "output_type": "stream",
     "text": [
      "INFO:tensorflow:Assets written to: ./imdb_bert_model\\assets\n"
     ]
    },
    {
     "name": "stderr",
     "output_type": "stream",
     "text": [
      "INFO:tensorflow:Assets written to: ./imdb_bert_model\\assets\n"
     ]
    }
   ],
   "source": [
    "classifier_model.save(\"./imdb_bert_model\", include_optimizer=False)"
   ]
  },
  {
   "cell_type": "markdown",
   "id": "04be2f75",
   "metadata": {},
   "source": [
    "### *Model Evaluation*"
   ]
  },
  {
   "cell_type": "code",
   "execution_count": 58,
   "id": "8a769109",
   "metadata": {},
   "outputs": [
    {
     "name": "stdout",
     "output_type": "stream",
     "text": [
      "157/157 [==============================] - 31s 199ms/step - loss: 0.3610 - accuracy: 0.8728 - precision: 0.8649 - recall: 0.8842\n"
     ]
    }
   ],
   "source": [
    "test_X = test_df['text']\n",
    "test_y = test_df['label']\n",
    "\n",
    "test_loss, test_acc, test_prec, test_recall = classifier_model.evaluate(test_X,test_y)\n"
   ]
  },
  {
   "cell_type": "code",
   "execution_count": 61,
   "id": "9dce5c25",
   "metadata": {},
   "outputs": [
    {
     "name": "stdout",
     "output_type": "stream",
     "text": [
      "The model achieved an accuracy of 0.87 with the testing set.\n",
      "The model achieved a precision of 0.86 with the testing set.\n",
      "The model achieved a recall of 0.88 with the testing set.\n"
     ]
    }
   ],
   "source": [
    "print(\"The model achieved an accuracy of {0} with the testing set.\".format(round(test_acc,2)))\n",
    "print(\"The model achieved a precision of {0} with the testing set.\".format(round(test_prec,2)))\n",
    "print(\"The model achieved a recall of {0} with the testing set.\".format(round(test_recall,2)))"
   ]
  },
  {
   "cell_type": "markdown",
   "id": "a454c01c",
   "metadata": {},
   "source": [
    "### *Experiment with Custom Text*"
   ]
  },
  {
   "cell_type": "code",
   "execution_count": 78,
   "id": "d8e76d49",
   "metadata": {},
   "outputs": [],
   "source": [
    "def get_score(text, model=classifier_model):\n",
    "    score = model(tf.constant([text]))[0][0]\n",
    "    print(\"Input text: {}\".format(text))\n",
    "    print()\n",
    "    print(\"Score: {}\".format(score))"
   ]
  },
  {
   "cell_type": "markdown",
   "id": "1e6c8910",
   "metadata": {},
   "source": [
    "#### Positive Feedback"
   ]
  },
  {
   "cell_type": "code",
   "execution_count": 94,
   "id": "d269f56e",
   "metadata": {},
   "outputs": [
    {
     "name": "stdout",
     "output_type": "stream",
     "text": [
      "Input text: The movie was really great!\n",
      "\n",
      "Score: 0.9963254332542419\n"
     ]
    }
   ],
   "source": [
    "get_score(\"The movie was really great!\")"
   ]
  },
  {
   "cell_type": "code",
   "execution_count": 83,
   "id": "12ac4054",
   "metadata": {},
   "outputs": [
    {
     "name": "stdout",
     "output_type": "stream",
     "text": [
      "Input text: This film was a piece of art!\n",
      "\n",
      "Score: 0.9968183040618896\n"
     ]
    }
   ],
   "source": [
    "get_score(\"This film was a piece of art!\")"
   ]
  },
  {
   "cell_type": "markdown",
   "id": "90a36f19",
   "metadata": {},
   "source": [
    "#### Negative Feedback"
   ]
  },
  {
   "cell_type": "code",
   "execution_count": 82,
   "id": "fb22104b",
   "metadata": {},
   "outputs": [
    {
     "name": "stdout",
     "output_type": "stream",
     "text": [
      "Input text: I kinda hate the main character...\n",
      "\n",
      "Score: 0.03626956790685654\n"
     ]
    }
   ],
   "source": [
    "get_score(\"I kinda hate the main character...\")"
   ]
  },
  {
   "cell_type": "code",
   "execution_count": 81,
   "id": "eca4d929",
   "metadata": {},
   "outputs": [
    {
     "name": "stdout",
     "output_type": "stream",
     "text": [
      "Input text: The movie was terrible...\n",
      "\n",
      "Score: 0.0014141895808279514\n"
     ]
    }
   ],
   "source": [
    "get_score(\"The movie was terrible...\")"
   ]
  },
  {
   "cell_type": "code",
   "execution_count": null,
   "id": "6ee7931c",
   "metadata": {},
   "outputs": [],
   "source": []
  }
 ],
 "metadata": {
  "kernelspec": {
   "display_name": "tfenv",
   "language": "python",
   "name": "tfenv"
  },
  "language_info": {
   "codemirror_mode": {
    "name": "ipython",
    "version": 3
   },
   "file_extension": ".py",
   "mimetype": "text/x-python",
   "name": "python",
   "nbconvert_exporter": "python",
   "pygments_lexer": "ipython3",
   "version": "3.10.8"
  }
 },
 "nbformat": 4,
 "nbformat_minor": 5
}
